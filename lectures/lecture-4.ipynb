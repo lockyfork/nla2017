{
 "cells": [
  {
   "cell_type": "code",
   "execution_count": 28,
   "metadata": {
    "slideshow": {
     "slide_type": "skip"
    }
   },
   "outputs": [
    {
     "data": {
      "text/plain": [
       "{'scroll': True,\n",
       " 'start_slideshow_at': 'selected',\n",
       " 'theme': 'sky',\n",
       " 'transition': 'zoom'}"
      ]
     },
     "execution_count": 28,
     "metadata": {},
     "output_type": "execute_result"
    }
   ],
   "source": [
    "from traitlets.config.manager import BaseJSONConfigManager\n",
    "import jupyter_core\n",
    "#path = \"/home/damian/miniconda3/envs/rise_latest/etc/jupyter/nbconfig\"\n",
    "path = \"/Users/i.oseledets/anaconda2/envs/teaching/etc/jupyter/nbconfig\"\n",
    "cm = BaseJSONConfigManager(config_dir=path)\n",
    "cm.update(\"livereveal\", {\n",
    "              \"theme\": \"sky\",\n",
    "              \"transition\": \"zoom\",\n",
    "              \"start_slideshow_at\": \"selected\",\n",
    "               \"scroll\": True\n",
    "})\n"
   ]
  },
  {
   "cell_type": "markdown",
   "metadata": {
    "code_folding": [
     1
    ],
    "slideshow": {
     "slide_type": "slide"
    }
   },
   "source": [
    "# Lecture 4:  Matrix rank, low-rank approximation, SVD"
   ]
  },
  {
   "cell_type": "markdown",
   "metadata": {
    "slideshow": {
     "slide_type": "slide"
    }
   },
   "source": [
    "## Previous lecture\n",
    "\n",
    "- Peak performance of algorithms\n",
    "- Complexity of matrix multiplication algorithms\n",
    "- Idea of blocking (why it is good?)"
   ]
  },
  {
   "cell_type": "markdown",
   "metadata": {
    "slideshow": {
     "slide_type": "slide"
    }
   },
   "source": [
    "## Todays lecture\n",
    "- Matrix rank\n",
    "- Skeleton decomposition\n",
    "- Low-rank approximation\n",
    "- Singular Value Decomposition (SVD)\n",
    "- Applications of SVD"
   ]
  },
  {
   "cell_type": "markdown",
   "metadata": {
    "slideshow": {
     "slide_type": "slide"
    }
   },
   "source": [
    "## Matrix and linear spaces\n",
    "A matrix can be considered as a sequence of vectors, its columns:\n",
    "$$\n",
    "   A = [a_1, \\ldots, a_m], \n",
    "$$\n",
    "where $a_m \\in \\mathbb{C}^{n\\times 1}$.  \n",
    "A matrix-by-vector product is equivalent to taking a linear combination of those columns  \n",
    "$$\n",
    "   y =  Ax, \\quad \\Longleftrightarrow y = a_1 x_1 + a_2 x_2 + \\ldots +a_m x_m.\n",
    "$$\n",
    "\n",
    "This is a special case of **block matrix notation** (columns are also blocks) that we have already seen (blocking to fit cache memory, Strassen algorithm)."
   ]
  },
  {
   "cell_type": "markdown",
   "metadata": {
    "slideshow": {
     "slide_type": "slide"
    }
   },
   "source": [
    "## Linear dependence\n",
    "\n",
    "The key point is the concept of linear dependence between vectors.\n",
    "\n",
    "Vectors $a_i$ are called **linearly dependent**, if there exist non-zero (simultaneously) coefficients $x_i$ such that  \n",
    "$$\\sum_i a_i x_i = 0,$$\n",
    "\n",
    "or in the matrix form\n",
    "\n",
    "$$\n",
    "   Ax = 0, \\quad \\Vert x \\Vert \\ne 0.\n",
    "$$\n",
    "\n",
    "In this case, we say that the matrix $A$ has a non-trivial **nullspace** (or **kernel**) denoted by $N(A)$ (or $\\text{ker}(A)$).\n",
    "\n",
    "Vectors that are not linearly dependent are called **linearly independent**."
   ]
  },
  {
   "cell_type": "markdown",
   "metadata": {
    "slideshow": {
     "slide_type": "slide"
    }
   },
   "source": [
    "## Linear (vector) space\n",
    "A **linear space** spanned by vectors $\\{a_1, \\ldots, a_m\\}$ is defined as all possible vectors of the form \n",
    "\n",
    "$$\n",
    "   \\mathcal{L}(a_1, \\ldots, a_m) = \\left\\{y: y = \\sum_{i=1}^m a_i x_i, \\, \\forall x_i, \\, i=1,\\dots, n \\right\\}, \n",
    "$$\n",
    "\n",
    "In the matrix form, the linear space is a set of all $y$ such that \n",
    "\n",
    "$$y = A x.$$\n",
    "\n",
    "This set is also called the **range** (or **image**) of the matrix, denoted by $\\text{range}(A)$ (or $\\text{im}(A)$) respectively.\n"
   ]
  },
  {
   "cell_type": "markdown",
   "metadata": {
    "slideshow": {
     "slide_type": "slide"
    }
   },
   "source": [
    "## Dimension of a linear space\n",
    "\n",
    "The dimension of a linear space $\\text{im}(A)$ denoted by $\\text{dim}\\, \\text{im} (A)$  is the minimal number of vectors required to represent each vector from $\\text{im} (A)$.\n",
    "\n",
    "The dimension of $\\text{im}(A)$ has a direct connection to the matrix rank.\n"
   ]
  },
  {
   "cell_type": "markdown",
   "metadata": {
    "slideshow": {
     "slide_type": "slide"
    }
   },
   "source": [
    "## Matrix rank\n",
    "\n",
    "Rank of a matrix $A$ is a maximal number of linearly independent *columns* in a matrix $A$, \n",
    "or the **dimension of its column space** $= \\text{dim} \\, \\text{im}(A)$.  \n",
    "\n",
    "You can also use linear combination of *rows* to define the rank, <br> i.e. formally there are two ranks: **column rank and row rank of a matrix**."
   ]
  },
  {
   "cell_type": "markdown",
   "metadata": {
    "slideshow": {
     "slide_type": "slide"
    }
   },
   "source": [
    "** Theorem**  \n",
    "The dimension of the column space of the matrix is equal to the dimension of the row space of the matrix.\n",
    "\n",
    "[Proof](https://ocw.mit.edu/courses/mathematics/18-701-algebra-i-fall-2010/study-materials/MIT18_701F10_rrk_crk.pdf)\n",
    "\n",
    "In the matrix form this fact can be written as $\\mathrm{dim}\\ \\mathrm{im} (A) = \\mathrm{dim}\\ \\mathrm{im} (A^\\top)$.\n",
    "\n",
    "Thus, there is a single rank!"
   ]
  },
  {
   "cell_type": "markdown",
   "metadata": {
    "slideshow": {
     "slide_type": "slide"
    }
   },
   "source": [
    "## Full-rank matrix\n",
    "\n",
    "A matrix $A \\in \\mathbb{R}^{m \\times n}$ is called of **full-rank**, if $\\mathrm{rank}(A) = \\min(m, n)$."
   ]
  },
  {
   "cell_type": "markdown",
   "metadata": {
    "slideshow": {
     "slide_type": "slide"
    }
   },
   "source": [
    "Suppose, we have a linear space, spanned by $n$ vectors. \n",
    "Let these vector be random with elements from standard normal distribution $\\mathcal{N}(0, 1)$.\n",
    "\n",
    "**Q**: What is the probability of the fact that this subspace has dimension $m < n$?\n",
    "\n",
    "**A**: **Random matrix has full rank with probability 1**."
   ]
  },
  {
   "cell_type": "markdown",
   "metadata": {
    "slideshow": {
     "slide_type": "slide"
    }
   },
   "source": [
    "## Dimensionality reduction\n",
    "\n",
    "A lot of data from real-world applications are high dimensional, for instance images (e.g. $512\\times 512$ pixels), texts, graphs. <br>\n",
    "However, working with high-dimensional data is not an easy task. <br>\n",
    "Is it possible to reduce the dimensionality, preserving important relations between objects such as distance?\n",
    "\n",
    "**Johnson–Lindenstrauss lemma** \n",
    "\n",
    "Let $N\\gg 1$. Given $0 < \\epsilon < 1$, a set of $m$ points in $\\mathbb{R}^N$ and $n > \\frac{8 \\log m}{\\epsilon^2}$ (we want $n\\ll N$).\n",
    "\n",
    "Then there exists **linear map** $f$ from $\\mathbb{R}^N \\rightarrow \\mathbb{R}^n$ the following inequality holds:\n",
    "\n",
    "$$(1 - \\epsilon) \\Vert u - v \\Vert^2 \\leq \\Vert f(u) - f(v) \\Vert^2 \\leq (1 + \\epsilon) \\Vert u - v \\Vert^2.$$\n",
    "\n",
    "\n",
    "This theorem states that there exists a map from high- to a low-dimensional space so that distances between points in these spaces are almost the same.\n",
    "\n",
    "It is not very practical due to the dependence on $\\epsilon$.\n",
    "\n",
    "\n",
    "This lemma does not give a recipe how to construct $f$, but guarantees that $f$ exists."
   ]
  },
  {
   "cell_type": "markdown",
   "metadata": {
    "slideshow": {
     "slide_type": "slide"
    }
   },
   "source": [
    "## Skeleton decomposition\n",
    "\n",
    "A very useful representation for computation of the matrix rank is the **skeleton decomposition** and is closely related to the rank. \n",
    "This decompositions explains, why and how matrices of low rank can be compressed.\n",
    "\n",
    "It can be graphically represented as follows:  \n",
    "<img src=\"https://raw.githubusercontent.com/oseledets/nla2016/master/lectures/skeleton.png\" width='50%' />\n",
    "or in the matrix form\n",
    "\n",
    "$$\n",
    "   A = C \\widehat{A}^{-1} R,\n",
    "$$\n",
    "\n",
    "where $C$ are some $r=\\mathrm{rank}(A)$ columns of $A$, $R$ are some $r$ rows of $A$ and  $\\widehat{A}$ is the **nonsingular** submatrix on the intersection."
   ]
  },
  {
   "cell_type": "markdown",
   "metadata": {
    "slideshow": {
     "slide_type": "slide"
    }
   },
   "source": [
    "### Remark\n",
    "\n",
    "We have not yet formally defined the inverse, so just a reminder:\n",
    "\n",
    "An inverse of the matrix $P$ is the matrix $Q = P^{-1}$ such that  \n",
    "$ P Q = QP = I$.  \n",
    "**If the matrix is square and has full rank then the inverse exists**."
   ]
  },
  {
   "cell_type": "markdown",
   "metadata": {
    "slideshow": {
     "slide_type": "slide"
    }
   },
   "source": [
    "### Proof for the skeleton decomposition\n",
    "* Let $C\\in \\mathbb{C}^{n\\times r}$ be the $r$ columns based on the nonsingular submatrix $\\widehat{A}$. Therefore they are linearly independent. \n",
    "* Take any other column $a_i$ of $A$. Then $a_i$ can be represented as a linear combination of the columns of $C$, i.e. $a_i = C x$.  \n",
    "\n",
    "* $a_i = C x$ are $n$ equations. We take $r$ of those corresponding to the rows that contain $\\widehat{A}$ and get the equation  \n",
    "$$\\widehat{r} = \\widehat{A} x \\quad \\Longrightarrow \\quad x = \\widehat{A}^{-1} \\widehat r$$ \n",
    "Thus, $a_i = C\\widehat{A}^{-1} \\widehat r$ for every $i$ and $$A = [a_1,\\dots, a_m] = C\\widehat{A}^{-1} R.$$"
   ]
  },
  {
   "cell_type": "markdown",
   "metadata": {
    "slideshow": {
     "slide_type": "slide"
    }
   },
   "source": [
    "### A closer look on the skeleton decomposition\n",
    "Any rank-$r$ matrix can be written in the form\n",
    "\n",
    "$$A = C \\widehat{A}^{-1} R,$$\n",
    "\n",
    "where $C$ is $n \\times r$, $R$ is $r \\times m$ and $\\widehat{A}$ is $r \\times r$, or \n",
    "\n",
    "$$\n",
    "   A = U V,\n",
    "$$\n",
    "where $U$ and $V$ are not unique, e.g. $U = C \\widehat{A}^{-1}$, $V=R$.\n",
    "\n",
    "The form $A = U V$ is standard for skeleton decomposition.\n",
    "\n",
    "Thus, every rank-$r$ matrix can be written as a product of a \"skinny\" (\"tall\") matrix $U$ by a \"fat\" (\"short\") matrix $V$."
   ]
  },
  {
   "cell_type": "markdown",
   "metadata": {
    "slideshow": {
     "slide_type": "fragment"
    }
   },
   "source": [
    "In the index form, it is  \n",
    "$$\n",
    "   a_{ij} = \\sum_{\\alpha=1}^r u_{i \\alpha} v_{\\alpha j}.\n",
    "$$\n",
    "For rank 1, we have\n",
    "$$\n",
    "   a_{ij} = u_i v_j,\n",
    "$$\n",
    "i.e. it is a separation of indices and rank-$r$ is a sum of rank-$1$ matrices!"
   ]
  },
  {
   "cell_type": "markdown",
   "metadata": {
    "slideshow": {
     "slide_type": "slide"
    }
   },
   "source": [
    "### Storage\n",
    "It is interesting to note, that for the rank-$r$ matrix \n",
    "$$A = U V$$\n",
    "only $U$ and $V$ can be stored, which gives us $(n+m) r$ parameters, so it can be used for **compression**. We can also compute matrix-by-vector $Ax$ product much faster:\n",
    "\n",
    "* Multiplication $y = Vx$ costs $\\mathcal{O}(mr)$ flops.\n",
    "* Multiplication $z = Uy$ costs $\\mathcal{O}(nr)$ flops.\n",
    "\n",
    "The same works for addition, elementwise multiplication, etc.\n",
    "For addition:\n",
    "\n",
    "$$\n",
    "    A_1 + A_2 = U_1 V_1 + U_2 V_2 = [U_1|U_2] [V_1^\\top|V_2^\\top]^\\top\n",
    "$$"
   ]
  },
  {
   "cell_type": "code",
   "execution_count": 1,
   "metadata": {
    "slideshow": {
     "slide_type": "fragment"
    }
   },
   "outputs": [
    {
     "name": "stdout",
     "output_type": "stream",
     "text": [
      "29.6 ms ± 654 µs per loop (mean ± std. dev. of 7 runs, 10 loops each)\n",
      "52.7 µs ± 1.01 µs per loop (mean ± std. dev. of 7 runs, 10000 loops each)\n"
     ]
    }
   ],
   "source": [
    "#A fast matrix-by-vector product demo\n",
    "import numpy as np\n",
    "n = 10000\n",
    "r = 10\n",
    "u = np.random.randn(n, r)\n",
    "v = np.random.randn(n, r)\n",
    "a = u.dot(v.T)\n",
    "x = np.random.randn(n)\n",
    "%timeit a@x\n",
    "%timeit u@(v.T@x)"
   ]
  },
  {
   "cell_type": "markdown",
   "metadata": {
    "slideshow": {
     "slide_type": "slide"
    }
   },
   "source": [
    "## Computing matrix rank\n",
    "We can also try to compute the matrix rank using the built-in ```np.linalg.matrix_rank``` function"
   ]
  },
  {
   "cell_type": "code",
   "execution_count": 2,
   "metadata": {
    "slideshow": {
     "slide_type": "fragment"
    }
   },
   "outputs": [
    {
     "name": "stdout",
     "output_type": "stream",
     "text": [
      "Rank of the matrix: 1\n",
      "Rank of the matrix: 50\n"
     ]
    }
   ],
   "source": [
    "#Computing matrix rank\n",
    "import numpy as np\n",
    "n = 50 \n",
    "a = np.ones((n, n))\n",
    "print('Rank of the matrix:', np.linalg.matrix_rank(a))\n",
    "b = a + 1e-5 * np.random.randn(n, n)\n",
    "print('Rank of the matrix:', np.linalg.matrix_rank(b, tol=1e-8))"
   ]
  },
  {
   "cell_type": "markdown",
   "metadata": {
    "slideshow": {
     "slide_type": "slide"
    }
   },
   "source": [
    "<font color='red'> So, small perturbations might crucially affect the rank. </font>"
   ]
  },
  {
   "cell_type": "markdown",
   "metadata": {
    "slideshow": {
     "slide_type": "slide"
    }
   },
   "source": [
    "### Instability of the matrix rank\n",
    "For any rank-$r$ matrix $A$ with $r < \\min(m, n)$ there is a matrix $B$ such that its rank is equal to $\\min(m, n)$ and\n",
    "\n",
    "$$\n",
    " \\Vert A - B \\Vert = \\epsilon.\n",
    "$$\n",
    "\n",
    "**Q**: So, does this mean that numerically matrix rank has no meaning? (I.e., small perturbations lead to full rank!) <br>\n",
    "**A**: No. We should find a matrix $B$ such that $\\|A-B\\| = \\epsilon$ and $B$ has minimal rank. So we can only compute rank with given accuracy $\\epsilon$.\n",
    "One of the approaches to compute matrix rank $r$ is SVD."
   ]
  },
  {
   "cell_type": "markdown",
   "metadata": {
    "slideshow": {
     "slide_type": "slide"
    }
   },
   "source": [
    "## Low rank approximation\n",
    "\n",
    "The important problem in many applications is to find low-rank approximation of the given matrix with given accurcacy $\\epsilon$ or rank $r$. <br>\n",
    "Examples:\n",
    "* principal component analysis\n",
    "* factor analysis\n",
    "* least squares\n",
    "* latent semantic analysis\n",
    "\n",
    "These problems can be solved by SVD."
   ]
  },
  {
   "cell_type": "markdown",
   "metadata": {
    "slideshow": {
     "slide_type": "slide"
    }
   },
   "source": [
    "## Singular value decomposition\n",
    "To compute low-rank approximation, we need to compute **singular value decomposition** (SVD).\n",
    "\n",
    "**Theorem** Any matrix $A\\in \\mathbb{C}^{n\\times m}$ can be written as a product of three matrices:  \n",
    "\n",
    "$$\n",
    "   A = U \\Sigma V^*,\n",
    "$$\n",
    "\n",
    "where $U$ is an $n \\times K$ **unitary matrix**, $V$ is an $m \\times K$ **unitary matrix**, $K = \\min(m, n)$, <br> $\\Sigma$ is a diagonal matrix with non-negative elements $\\sigma_1 \\geq  \\ldots, \\geq \\sigma_K$ on the diagonal. <br>\n",
    "Moreover, if $\\text{rank}(A) = r$, then $\\sigma_{r+1} = \\dots = \\sigma_K = 0$."
   ]
  },
  {
   "cell_type": "markdown",
   "metadata": {
    "slideshow": {
     "slide_type": "slide"
    }
   },
   "source": [
    "### Proof\n",
    "* Matrix $A^*A$ is Hermitian, hence diagonalizable in unitary basis (will be discussed further in the course).\n",
    "* $A^*A\\geq0$ (non-negative definite), so eigenvalues are non-negative.\n",
    "Therefore, there exists unitary matrix $V = [v_1, \\dots, v_n]$ such that\n",
    "\n",
    "$$\n",
    "    V^* A^* A V = \\text{diag}(\\sigma_1^2,\\dots, \\sigma_n^2), \\quad \\sigma_1\\geq \\sigma_2\\geq \\dots \\geq \\sigma_n.\n",
    "$$\n",
    "\n",
    "Let $\\sigma_i = 0$ for $i>r$, where $r$ is some integer. <br>\n",
    "Let $V_r= [v_1, \\dots, v_r]$, $\\Sigma_r = \\text{diag}(\\sigma_1, \\dots,\\sigma_r)$. Hence\n",
    "\n",
    "$$\n",
    "    V^*_r A^* A V_r = \\Sigma_r^2 \\quad \\Longrightarrow \\quad (\\Sigma_r^{-1} V_r^* A^*) (A V_r\\Sigma_r^{-1} ) = I.\n",
    "$$\n",
    "\n",
    "As a result, matrix $U_r = A V_r\\Sigma_r^{-1}$ satisfies $U_r^* U_r = I$ and hence has orthogonal columns. <br>\n",
    "Let us add to $U_r$ any orthogonal columns that are orthogonal to columns in $U_r$ and denote this matrix as $U$.\n",
    "Then\n",
    "\n",
    "$$\n",
    "    AV = U \\begin{bmatrix} \\Sigma_r & 0 \\\\ 0 & 0 \\end{bmatrix}\\quad \\Longrightarrow \\quad U^* A V = \\begin{bmatrix}\\Sigma_r & 0 \\\\ 0 & 0 \\end{bmatrix}.\n",
    "$$\n",
    "\n",
    "Since multiplication by non-singular matrices does not change rank of $A$, we have $r = \\text{rank}(A)$."
   ]
  },
  {
   "cell_type": "markdown",
   "metadata": {
    "slideshow": {
     "slide_type": "slide"
    }
   },
   "source": [
    "**Corollary 1**: $A = \\displaystyle{\\sum_{\\alpha=1}^r} \\sigma_\\alpha u_\\alpha v_\\alpha^*$ or elementwise $a_{ij} = \\displaystyle{\\sum_{\\alpha=1}^r} \\sigma_\\alpha u_{i\\alpha} \\overline{v}_{j\\alpha}$\n",
    "\n",
    "**Corollary 2**: $$\\text{ker}(A) = \\mathcal{L}\\{v_{r+1},\\dots,v_n\\}$$\n",
    "$$\\text{im}(A) = \\mathcal{L}\\{u_{1},\\dots,u_r\\}$$\n",
    "$$\\text{ker}(A^*) = \\mathcal{L}\\{u_{r+1},\\dots,u_n\\}$$\n",
    "$$\\text{im}(A^*) = \\mathcal{L}\\{v_{1},\\dots,v_r\\}$$"
   ]
  },
  {
   "cell_type": "markdown",
   "metadata": {
    "slideshow": {
     "slide_type": "slide"
    }
   },
   "source": [
    "# Eckart-Young theorem\n",
    "\n",
    "The best low-rank approximation can be computed by SVD.\n",
    "\n",
    "**Theorem:** Let $r < \\text{rank}(A)$, $A_r = U_r \\Sigma_r V_r^*$. Then\n",
    "\n",
    "$$\n",
    "    \\min_{\\text{rank}(B)=r} \\|A - B\\|_2 = \\|A - A_r\\|_2 = \\sigma_{r+1}.\n",
    "$$\n",
    "\n",
    "The same holds for $\\|\\cdot\\|_F$, but $\\|A - A_r\\|_F = \\sqrt{\\sigma_{r+1}^2 + \\dots + \\sigma_{\\min (n,m)}^2}$."
   ]
  },
  {
   "cell_type": "markdown",
   "metadata": {
    "slideshow": {
     "slide_type": "slide"
    }
   },
   "source": [
    "## Proof  \n",
    "Since $\\text{rank} (B) = r$, it holds $\\text{dim}~\\text{ker}~B = n-r$. \n",
    "\n",
    "\n",
    "Hence there exists $z\\not=0$ such that $z\\in \\text{ker}(B) \\cap \\mathcal{L}(v_1,\\dots,v_{r+1})$ (as $\\text{dim}\\{v_1,\\dots,v_{r+1}\\} = r+1$).\n",
    "\n",
    "Fix $\\|z\\| = 1$. Therefore,\n",
    "$$\n",
    "    \\|A-B\\|_2^2 \\geq \\|(A-B)z\\|_2^2 = \\|Az\\|_2^2 = \\| U\\Sigma V^* z\\|_2= \\|\\Sigma V^* z\\|_2 = \\sum_{i=1}^{n} \\sigma_i^2 (v_i^*z)^2 =\\sum_{i=1}^{r+1} \\sigma_i^2 (v_i^*z)^2 \\geq \\sigma_{r+1}^2\\sum_{i=1}^{r+1} (v_i^*z)^2 = \\sigma_{r+1}^2\n",
    "$$\n",
    "as $\\sigma_1\\geq \\dots \\geq \\sigma_{r+1}$ and $$\\sum_{i=1}^{r+1} (v_i^*z)^2 = \\|Vz\\|_2^2 = \\|z\\|_2^2 = 1.$$"
   ]
  },
  {
   "cell_type": "markdown",
   "metadata": {
    "slideshow": {
     "slide_type": "slide"
    }
   },
   "source": [
    "## Main result on low-rank approximation\n",
    "\n",
    "**Corollary:** computation of the best rank-$r$ approximation is equivalent to setting $\\sigma_{r+1}= 0, \\ldots, \\sigma_K = 0$. The error \n",
    "\n",
    "$$\n",
    "   \\min_{A_r} \\Vert A - A_r \\Vert_2 = \\sigma_{r+1}, \\quad \\min_{A_r} \\Vert A - A_r \\Vert_F = \\sqrt{\\sigma_{r+1}^2 + \\dots + \\sigma_{K}^2}\n",
    "$$\n",
    "\n",
    "that is why it is important to look at the decay of the singular values."
   ]
  },
  {
   "cell_type": "markdown",
   "metadata": {
    "slideshow": {
     "slide_type": "slide"
    }
   },
   "source": [
    "## Computing SVD\n",
    "\n",
    "Algorithms for the computation of the SVD are tricky and will be discussed later.\n",
    "\n",
    "But for numerics, we can use numpy already!\n",
    "\n",
    "Let us go back to the previous example"
   ]
  },
  {
   "cell_type": "code",
   "execution_count": 3,
   "metadata": {
    "slideshow": {
     "slide_type": "slide"
    }
   },
   "outputs": [
    {
     "name": "stdout",
     "output_type": "stream",
     "text": [
      "Rank of the matrix: 1\n",
      "Rank of the matrix: 50\n"
     ]
    }
   ],
   "source": [
    "#Computing matrix rank\n",
    "import numpy as np\n",
    "n = 50 \n",
    "a = np.ones((n, n))\n",
    "print('Rank of the matrix:', np.linalg.matrix_rank(a))\n",
    "b = a + 1e-5 * np.random.randn(n, n)\n",
    "print('Rank of the matrix:', np.linalg.matrix_rank(b))"
   ]
  },
  {
   "cell_type": "code",
   "execution_count": 4,
   "metadata": {
    "slideshow": {
     "slide_type": "fragment"
    }
   },
   "outputs": [
    {
     "name": "stdout",
     "output_type": "stream",
     "text": [
      "2.78785588834e-06\n",
      "2.78785588834e-06\n"
     ]
    }
   ],
   "source": [
    "u, s, v = np.linalg.svd(b)\n",
    "print(s[1]/s[0])\n",
    "r = 1\n",
    "u1 = u[:, :r]\n",
    "s1 = s[:r]\n",
    "v1 = v[:r, :]\n",
    "a1 = u1.dot(np.diag(s1).dot(v1))\n",
    "print(np.linalg.norm(b - a1, 2)/s[0])"
   ]
  },
  {
   "cell_type": "markdown",
   "metadata": {
    "slideshow": {
     "slide_type": "slide"
    }
   },
   "source": [
    "## Separation of variables for 2D functions\n",
    "\n",
    "We can use SVD to compute approximations of **function-related** matrices, i.e. the matrices of the form \n",
    "\n",
    "$$a_{ij} = f(x_i, y_j),$$\n",
    "\n",
    "where $f$ is a certain function, and $x_i, \\quad i = 1, \\ldots, n$ and $y_j, \\quad j = 1, \\ldots, m$ are some **one-dimensional grids**."
   ]
  },
  {
   "cell_type": "code",
   "execution_count": 6,
   "metadata": {
    "slideshow": {
     "slide_type": "fragment"
    }
   },
   "outputs": [
    {
     "data": {
      "text/plain": [
       "[<matplotlib.lines.Line2D at 0x10bd88780>]"
      ]
     },
     "execution_count": 6,
     "metadata": {},
     "output_type": "execute_result"
    },
    {
     "data": {
      "image/png": "[encoded data removed]",
      "text/plain": [
       "<matplotlib.figure.Figure at 0x10c8a6048>"
      ]
     },
     "metadata": {},
     "output_type": "display_data"
    }
   ],
   "source": [
    "%matplotlib inline\n",
    "import numpy as np\n",
    "import matplotlib.pyplot as plt\n",
    "import seaborn as sns\n",
    "sns.set_style(\"whitegrid\")\n",
    "sns.set_context(\"talk\")\n",
    "# plt.xkcd()\n",
    "n = 1000\n",
    "a = [[1.0/(i+j+1) for i in range(n)] for j in range(n)] #Hilbert matrix \n",
    "a = np.array(a)\n",
    "u, s, v = np.linalg.svd(a)\n",
    "fig, ax = plt.subplots(1, 1)\n",
    "ax.semilogy(s[:30]/s[0])\n",
    "#We have very good low-rank approximation of it!"
   ]
  },
  {
   "cell_type": "markdown",
   "metadata": {
    "slideshow": {
     "slide_type": "slide"
    }
   },
   "source": [
    "Now we can do something more interesting, like function approximation"
   ]
  },
  {
   "cell_type": "code",
   "execution_count": 12,
   "metadata": {
    "slideshow": {
     "slide_type": "fragment"
    }
   },
   "outputs": [
    {
     "name": "stdout",
     "output_type": "stream",
     "text": [
      "3.61306036747e-10\n"
     ]
    },
    {
     "data": {
      "text/plain": [
       "[<matplotlib.lines.Line2D at 0x109554208>]"
      ]
     },
     "execution_count": 12,
     "metadata": {},
     "output_type": "execute_result"
    },
    {
     "data": {
      "image/png": "[encoded data removed]",
      "text/plain": [
       "<matplotlib.figure.Figure at 0x109575a58>"
      ]
     },
     "metadata": {},
     "output_type": "display_data"
    }
   ],
   "source": [
    "import numpy as np\n",
    "n = 128\n",
    "t = np.linspace(0, 5, n)\n",
    "x, y = np.meshgrid(t, t)\n",
    "f = 1.0 / (x + y + 0.5) # test your own function. Check 1.0 / (x - y + 0.5)\n",
    "\n",
    "u, s, v = np.linalg.svd(f, full_matrices=False)\n",
    "r = 10\n",
    "u = u[:, :r]\n",
    "s = s[:r]\n",
    "v = v[:r, :] # Mind the transpose here!\n",
    "fappr = u.dot(np.diag(s).dot(v))\n",
    "er = np.linalg.norm(fappr - f, 'fro') / np.linalg.norm(f, 'fro')\n",
    "print(er)\n",
    "plt.semilogy(s/s[0])"
   ]
  },
  {
   "cell_type": "markdown",
   "metadata": {
    "slideshow": {
     "slide_type": "fragment"
    }
   },
   "source": [
    "And do some 3D plotting"
   ]
  },
  {
   "cell_type": "code",
   "execution_count": 17,
   "metadata": {
    "slideshow": {
     "slide_type": "fragment"
    }
   },
   "outputs": [
    {
     "data": {
      "image/png": "[encoded data removed]",
      "text/plain": [
       "<matplotlib.figure.Figure at 0x115de3fd0>"
      ]
     },
     "metadata": {},
     "output_type": "display_data"
    }
   ],
   "source": [
    "%matplotlib inline\n",
    "import matplotlib.pyplot as plt\n",
    "from mpl_toolkits.mplot3d import Axes3D\n",
    "# plt.xkcd()\n",
    "fig = plt.figure(figsize=(10, 5))\n",
    "ax = fig.add_subplot(131, projection='3d')\n",
    "ax.plot_surface(x, y, f)\n",
    "ax.set_title('Original function')\n",
    "\n",
    "ax = fig.add_subplot(132, projection='3d')\n",
    "ax.plot_surface(x, y, fappr)\n",
    "ax.set_title('Approx function')\n",
    "\n",
    "ax = fig.add_subplot(133, projection='3d')\n",
    "ax.plot_surface(x, y, fappr - f)\n",
    "ax.set_title('Approximation error with rank=%d, err=%3.1e' % (r, er))\n",
    "fig.subplots_adjust()\n",
    "fig.tight_layout()"
   ]
  },
  {
   "cell_type": "markdown",
   "metadata": {
    "slideshow": {
     "slide_type": "slide"
    }
   },
   "source": [
    "## Singular values of a random Gaussian matrix\n",
    "\n",
    "What is the singular value decay of a random matrix?"
   ]
  },
  {
   "cell_type": "code",
   "execution_count": 18,
   "metadata": {
    "slideshow": {
     "slide_type": "slide"
    }
   },
   "outputs": [
    {
     "data": {
      "text/plain": [
       "[<matplotlib.lines.Line2D at 0x111253048>]"
      ]
     },
     "execution_count": 18,
     "metadata": {},
     "output_type": "execute_result"
    },
    {
     "data": {
      "image/png": "[encoded data removed]",
      "text/plain": [
       "<matplotlib.figure.Figure at 0x11598aa20>"
      ]
     },
     "metadata": {},
     "output_type": "display_data"
    }
   ],
   "source": [
    "import numpy as np\n",
    "import matplotlib.pyplot as plt\n",
    "# plt.xkcd()\n",
    "n = 1000\n",
    "a = np.random.randn(n, n)\n",
    "u, s, v = np.linalg.svd(a)\n",
    "plt.semilogy(s/s[0])"
   ]
  },
  {
   "cell_type": "markdown",
   "metadata": {
    "slideshow": {
     "slide_type": "slide"
    }
   },
   "source": [
    "## Linear factor analysis & low-rank\n",
    "Consider a linear factor model, \n",
    "\n",
    "$$y = Ax, $$ where $y$ is a vector of length $n$, and $x$ is a vector of length $r$.  \n",
    "The data is organized as samples: we observe vectors  \n",
    "$$y_1, \\ldots, y_T,$$\n",
    "but do not know matrix $A$,\n",
    "then the factor model can be written as  \n",
    "$$\n",
    "  Y = AX,\n",
    "$$\n",
    "where $Y$ is $n \\times T$, $A$ is $n \\times r$ and $X$ is $r \\times T$. This is exactly a rank-$r$ model: it tells us that the vectors lie in a small subspace!  \n",
    "We also can use SVD to recover this subspace (but not the independent components). Principal component analysis can be done by SVD!"
   ]
  },
  {
   "cell_type": "markdown",
   "metadata": {
    "slideshow": {
     "slide_type": "slide"
    }
   },
   "source": [
    "## Applications of SVD\n",
    "\n",
    "SVD is extremely important in computational science and engineering.\n",
    "\n",
    "It has many names: Principal component analysis, Proper Orthogonal Decomposition, Empirical Orthogonal Functions\n",
    "\n",
    "We will consider:\n",
    "\n",
    "1. Latent semantic analysis\n",
    "2. Collaborative filtering\n",
    "3. Data compression"
   ]
  },
  {
   "cell_type": "markdown",
   "metadata": {
    "slideshow": {
     "slide_type": "slide"
    }
   },
   "source": [
    "## Application 1: Latent semantic analysis\n",
    "One of the most famous application is **Latent semantic indexing**, see, for example,  \n",
    "[Deerwester, Scott C., et al. \"Indexing by latent semantic analysis.\" (1990)](http://lsa.colorado.edu/papers/JASIS.lsi.90.pdf)  \n",
    "\n",
    "The problem setup: we have a set of text documents $D_1, \\ldots, D_N.$ We want to solve the search problem: i.e., we have a query as a set of words, and we want to find the best documents.  \n",
    "Our data is processed as follows:  for each document we create a list of words contained in the document, and count the frequencies of each word. This is called the **bag of words** model (i.e., the document is unordered set of words).  "
   ]
  },
  {
   "cell_type": "markdown",
   "metadata": {
    "slideshow": {
     "slide_type": "slide"
    }
   },
   "source": [
    "## Term-document matrix\n",
    "This is how the term-document matrix $A$ is obtained. Its row size is **the size of the dictionary**.   \n",
    "Its column size is **the number of documents**.  An element $A_{ij}$ the frequency of occurence of the $i$-th word in the $j$-document.\n",
    "\n",
    "To do the search, we can just multiply a term-documnt matrix by a **search vector**, i.e. a list of words."
   ]
  },
  {
   "cell_type": "markdown",
   "metadata": {
    "slideshow": {
     "slide_type": "slide"
    }
   },
   "source": [
    "**The problem**: The document will be returned only if there is an exact word match.  However, we might search for \"Samuel Clemens\", and hope to get the results for \"Mark Twain\" as well.  But there might be no exact match!  \n",
    "How the SVD can help?"
   ]
  },
  {
   "cell_type": "markdown",
   "metadata": {
    "slideshow": {
     "slide_type": "slide"
    }
   },
   "source": [
    "## Idea of LSI\n",
    "Compute **low-rank approximation** $A_r$ of the term-document matrix $A$.  \n",
    "$$A \\approx A_r,$$\n",
    "and **we do not care about the approximation error** (i.e., we do not require it to be small).  \n",
    "The matrix $A_r$ can be then used to do queries.  \n",
    "\n",
    "We project the documents to **low-dimensional subspace**, given a query $q$ the projection is  \n",
    "$$q_r = \\Sigma^{-1}_r U^{\\top}_r q$$\n",
    "Now we can compute the similarity between $d_r$ and other projected documents  \n",
    "$$\\widehat{d}_i = \\Sigma^{-1}_r U^{\\top}_r d_i,$$\n",
    "and compute the **cosine** of the angles  between the query and the projected document."
   ]
  },
  {
   "cell_type": "markdown",
   "metadata": {
    "slideshow": {
     "slide_type": "slide"
    }
   },
   "source": [
    "## Demo\n",
    "Now we can test a demo database"
   ]
  },
  {
   "cell_type": "code",
   "execution_count": 19,
   "metadata": {
    "slideshow": {
     "slide_type": "slide"
    }
   },
   "outputs": [
    {
     "data": {
      "text/html": [
       "<div>\n",
       "<table border=\"1\" class=\"dataframe\">\n",
       "  <thead>\n",
       "    <tr style=\"text-align: right;\">\n",
       "      <th></th>\n",
       "      <th>0</th>\n",
       "      <th>1</th>\n",
       "      <th>2</th>\n",
       "      <th>3</th>\n",
       "      <th>4</th>\n",
       "      <th>5</th>\n",
       "      <th>6</th>\n",
       "      <th>7</th>\n",
       "      <th>8</th>\n",
       "    </tr>\n",
       "  </thead>\n",
       "  <tbody>\n",
       "    <tr>\n",
       "      <th>human</th>\n",
       "      <td>1.0</td>\n",
       "      <td>0.0</td>\n",
       "      <td>0.0</td>\n",
       "      <td>1.0</td>\n",
       "      <td>0.0</td>\n",
       "      <td>0.0</td>\n",
       "      <td>0.0</td>\n",
       "      <td>0.0</td>\n",
       "      <td>0.0</td>\n",
       "    </tr>\n",
       "    <tr>\n",
       "      <th>interface</th>\n",
       "      <td>1.0</td>\n",
       "      <td>0.0</td>\n",
       "      <td>1.0</td>\n",
       "      <td>0.0</td>\n",
       "      <td>0.0</td>\n",
       "      <td>0.0</td>\n",
       "      <td>0.0</td>\n",
       "      <td>0.0</td>\n",
       "      <td>0.0</td>\n",
       "    </tr>\n",
       "    <tr>\n",
       "      <th>computer</th>\n",
       "      <td>1.0</td>\n",
       "      <td>1.0</td>\n",
       "      <td>0.0</td>\n",
       "      <td>0.0</td>\n",
       "      <td>0.0</td>\n",
       "      <td>0.0</td>\n",
       "      <td>0.0</td>\n",
       "      <td>0.0</td>\n",
       "      <td>0.0</td>\n",
       "    </tr>\n",
       "    <tr>\n",
       "      <th>user</th>\n",
       "      <td>0.0</td>\n",
       "      <td>1.0</td>\n",
       "      <td>1.0</td>\n",
       "      <td>0.0</td>\n",
       "      <td>1.0</td>\n",
       "      <td>0.0</td>\n",
       "      <td>0.0</td>\n",
       "      <td>0.0</td>\n",
       "      <td>0.0</td>\n",
       "    </tr>\n",
       "    <tr>\n",
       "      <th>system</th>\n",
       "      <td>0.0</td>\n",
       "      <td>1.0</td>\n",
       "      <td>1.0</td>\n",
       "      <td>1.0</td>\n",
       "      <td>0.0</td>\n",
       "      <td>0.0</td>\n",
       "      <td>0.0</td>\n",
       "      <td>0.0</td>\n",
       "      <td>0.0</td>\n",
       "    </tr>\n",
       "    <tr>\n",
       "      <th>response</th>\n",
       "      <td>0.0</td>\n",
       "      <td>1.0</td>\n",
       "      <td>0.0</td>\n",
       "      <td>0.0</td>\n",
       "      <td>1.0</td>\n",
       "      <td>0.0</td>\n",
       "      <td>0.0</td>\n",
       "      <td>0.0</td>\n",
       "      <td>0.0</td>\n",
       "    </tr>\n",
       "    <tr>\n",
       "      <th>time</th>\n",
       "      <td>0.0</td>\n",
       "      <td>1.0</td>\n",
       "      <td>0.0</td>\n",
       "      <td>0.0</td>\n",
       "      <td>1.0</td>\n",
       "      <td>0.0</td>\n",
       "      <td>0.0</td>\n",
       "      <td>0.0</td>\n",
       "      <td>0.0</td>\n",
       "    </tr>\n",
       "    <tr>\n",
       "      <th>EPS</th>\n",
       "      <td>0.0</td>\n",
       "      <td>0.0</td>\n",
       "      <td>1.0</td>\n",
       "      <td>1.0</td>\n",
       "      <td>0.0</td>\n",
       "      <td>0.0</td>\n",
       "      <td>0.0</td>\n",
       "      <td>0.0</td>\n",
       "      <td>0.0</td>\n",
       "    </tr>\n",
       "    <tr>\n",
       "      <th>survey</th>\n",
       "      <td>0.0</td>\n",
       "      <td>1.0</td>\n",
       "      <td>0.0</td>\n",
       "      <td>0.0</td>\n",
       "      <td>0.0</td>\n",
       "      <td>0.0</td>\n",
       "      <td>0.0</td>\n",
       "      <td>0.0</td>\n",
       "      <td>1.0</td>\n",
       "    </tr>\n",
       "    <tr>\n",
       "      <th>trees</th>\n",
       "      <td>0.0</td>\n",
       "      <td>0.0</td>\n",
       "      <td>0.0</td>\n",
       "      <td>0.0</td>\n",
       "      <td>0.0</td>\n",
       "      <td>1.0</td>\n",
       "      <td>1.0</td>\n",
       "      <td>1.0</td>\n",
       "      <td>0.0</td>\n",
       "    </tr>\n",
       "    <tr>\n",
       "      <th>graph</th>\n",
       "      <td>0.0</td>\n",
       "      <td>0.0</td>\n",
       "      <td>0.0</td>\n",
       "      <td>0.0</td>\n",
       "      <td>0.0</td>\n",
       "      <td>0.0</td>\n",
       "      <td>1.0</td>\n",
       "      <td>1.0</td>\n",
       "      <td>1.0</td>\n",
       "    </tr>\n",
       "    <tr>\n",
       "      <th>minors</th>\n",
       "      <td>0.0</td>\n",
       "      <td>0.0</td>\n",
       "      <td>0.0</td>\n",
       "      <td>0.0</td>\n",
       "      <td>0.0</td>\n",
       "      <td>0.0</td>\n",
       "      <td>0.0</td>\n",
       "      <td>1.0</td>\n",
       "      <td>1.0</td>\n",
       "    </tr>\n",
       "  </tbody>\n",
       "</table>\n",
       "</div>"
      ],
      "text/plain": [
       "             0    1    2    3    4    5    6    7    8\n",
       "human      1.0  0.0  0.0  1.0  0.0  0.0  0.0  0.0  0.0\n",
       "interface  1.0  0.0  1.0  0.0  0.0  0.0  0.0  0.0  0.0\n",
       "computer   1.0  1.0  0.0  0.0  0.0  0.0  0.0  0.0  0.0\n",
       "user       0.0  1.0  1.0  0.0  1.0  0.0  0.0  0.0  0.0\n",
       "system     0.0  1.0  1.0  1.0  0.0  0.0  0.0  0.0  0.0\n",
       "response   0.0  1.0  0.0  0.0  1.0  0.0  0.0  0.0  0.0\n",
       "time       0.0  1.0  0.0  0.0  1.0  0.0  0.0  0.0  0.0\n",
       "EPS        0.0  0.0  1.0  1.0  0.0  0.0  0.0  0.0  0.0\n",
       "survey     0.0  1.0  0.0  0.0  0.0  0.0  0.0  0.0  1.0\n",
       "trees      0.0  0.0  0.0  0.0  0.0  1.0  1.0  1.0  0.0\n",
       "graph      0.0  0.0  0.0  0.0  0.0  0.0  1.0  1.0  1.0\n",
       "minors     0.0  0.0  0.0  0.0  0.0  0.0  0.0  1.0  1.0"
      ]
     },
     "execution_count": 19,
     "metadata": {},
     "output_type": "execute_result"
    }
   ],
   "source": [
    "import numpy as np\n",
    "import pandas as pd\n",
    "import re #Regular expressions\n",
    "rows = ['human', 'interface', 'computer', 'user', 'system', 'response', 'time', 'EPS', 'survey', 'trees', 'graph', 'minors']\n",
    "nterms = len(rows)\n",
    "docs = []\n",
    "docs += ['Human machine interface for Lab ABC computer applications']\n",
    "docs += ['A survey of user opinions of computer system response time']\n",
    "docs += ['The EPS user interfaces management system']\n",
    "docs += ['System and human system engineering testing of EPS']\n",
    "docs += ['Relation of user-perceived response time on user management']\n",
    "docs += ['The generation of random, binary, unordered trees']\n",
    "docs += ['The intersection graph of paths in trees']\n",
    "docs += ['Graph minors IV: Width of trees and well-quasi-ordering']\n",
    "docs += ['Graph minors: A survey']\n",
    "ndocs = len(docs)\n",
    "term_doc = np.zeros((nterms, ndocs))\n",
    "for i in range(nterms):\n",
    "    for j in range(ndocs):\n",
    "        if re.search(rows[i], docs[j], re.IGNORECASE):\n",
    "            term_doc[i, j] = 1\n",
    "#Use pandas to plot        \n",
    "pd.DataFrame(data=term_doc,index=rows)"
   ]
  },
  {
   "cell_type": "markdown",
   "metadata": {
    "slideshow": {
     "slide_type": "slide"
    }
   },
   "source": [
    "Now we can compare the results between ordinary matvec and low-rank matvec."
   ]
  },
  {
   "cell_type": "code",
   "execution_count": 20,
   "metadata": {
    "slideshow": {
     "slide_type": "slide"
    }
   },
   "outputs": [
    {
     "name": "stdout",
     "output_type": "stream",
     "text": [
      "There query is: Human computer interaction, the scores are:\n"
     ]
    },
    {
     "data": {
      "text/html": [
       "<div>\n",
       "<table border=\"1\" class=\"dataframe\">\n",
       "  <thead>\n",
       "    <tr style=\"text-align: right;\">\n",
       "      <th></th>\n",
       "      <th>No SVD</th>\n",
       "      <th>SVD</th>\n",
       "    </tr>\n",
       "  </thead>\n",
       "  <tbody>\n",
       "    <tr>\n",
       "      <th>Human machine interface for Lab ABC computer applications</th>\n",
       "      <td>2.0</td>\n",
       "      <td>0.316794</td>\n",
       "    </tr>\n",
       "    <tr>\n",
       "      <th>A survey of user opinions of computer system response time</th>\n",
       "      <td>1.0</td>\n",
       "      <td>1.011276</td>\n",
       "    </tr>\n",
       "    <tr>\n",
       "      <th>The EPS user interfaces management system</th>\n",
       "      <td>0.0</td>\n",
       "      <td>0.663677</td>\n",
       "    </tr>\n",
       "    <tr>\n",
       "      <th>System and human system engineering testing of EPS</th>\n",
       "      <td>1.0</td>\n",
       "      <td>0.405542</td>\n",
       "    </tr>\n",
       "    <tr>\n",
       "      <th>Relation of user-perceived response time on user management</th>\n",
       "      <td>0.0</td>\n",
       "      <td>0.554066</td>\n",
       "    </tr>\n",
       "    <tr>\n",
       "      <th>The generation of random, binary, unordered trees</th>\n",
       "      <td>0.0</td>\n",
       "      <td>-0.035325</td>\n",
       "    </tr>\n",
       "    <tr>\n",
       "      <th>The intersection graph of paths in trees</th>\n",
       "      <td>0.0</td>\n",
       "      <td>-0.065210</td>\n",
       "    </tr>\n",
       "    <tr>\n",
       "      <th>Graph minors IV: Width of trees and well-quasi-ordering</th>\n",
       "      <td>0.0</td>\n",
       "      <td>-0.082587</td>\n",
       "    </tr>\n",
       "    <tr>\n",
       "      <th>Graph minors: A survey</th>\n",
       "      <td>0.0</td>\n",
       "      <td>0.055939</td>\n",
       "    </tr>\n",
       "  </tbody>\n",
       "</table>\n",
       "</div>"
      ],
      "text/plain": [
       "                                                    No SVD       SVD\n",
       "Human machine interface for Lab ABC computer ap...     2.0  0.316794\n",
       "A survey of user opinions of computer system re...     1.0  1.011276\n",
       "The EPS user interfaces management system              0.0  0.663677\n",
       "System and human system engineering testing of EPS     1.0  0.405542\n",
       "Relation of user-perceived response time on use...     0.0  0.554066\n",
       "The generation of random, binary, unordered trees      0.0 -0.035325\n",
       "The intersection graph of paths in trees               0.0 -0.065210\n",
       "Graph minors IV: Width of trees and well-quasi-...     0.0 -0.082587\n",
       "Graph minors: A survey                                 0.0  0.055939"
      ]
     },
     "execution_count": 20,
     "metadata": {},
     "output_type": "execute_result"
    }
   ],
   "source": [
    "query = 'Human computer interaction'\n",
    "qv = np.zeros((nterms))\n",
    "for i in range(nterms):\n",
    "    if re.search(rows[i], query, re.IGNORECASE):\n",
    "        qv[i] = 1\n",
    "res1 = qv.dot(term_doc) #Non-compressed search result\n",
    "\n",
    "u, s, v = np.linalg.svd(term_doc)\n",
    "r = 2\n",
    "u = u[:, :r]\n",
    "s = s[:r]\n",
    "v = v[:r, :] #Numpy transposes\n",
    "appr1  = u.dot(np.diag(s)).dot(v)\n",
    "res2 = qv.dot(appr1)\n",
    "res_all = np.vstack((res1, res2)).T #To make two columns\n",
    "print('There query is: {}, the scores are:'.format(query))\n",
    "pd.DataFrame(res_all, index=docs, columns=['No SVD', 'SVD'])"
   ]
  },
  {
   "cell_type": "markdown",
   "metadata": {
    "slideshow": {
     "slide_type": "slide"
    }
   },
   "source": [
    "## Application 2: Collaborative filtering\n",
    "\n",
    "Another important (and similar) application comes from **recommender systems**.  \n",
    "\n",
    "Suppose you have a **user-product matrix**: each user puts a rating for a particular product.\n",
    "\n",
    "The matrix is then **the number of users times the number of products**. The goal is to recommend additional products to be bought for a particular user.  \n",
    "\n",
    "The scheme is the same: we compute the SVD, and the recommendation for each user is just a column of the approximated matrix.\n",
    "\n",
    "We will do this demo tomorrow :)"
   ]
  },
  {
   "cell_type": "markdown",
   "metadata": {
    "slideshow": {
     "slide_type": "slide"
    }
   },
   "source": [
    "## Application 3: Dense matrix compression\n",
    "\n",
    "Dense matrices typically require $N^2$ elements to be stored. For $N \\sim 10^4 - 10^5$ the memory requirements. A low rank approximation can reduces this number of $\\mathcal{O}(Nr)$"
   ]
  },
  {
   "cell_type": "code",
   "execution_count": 21,
   "metadata": {
    "slideshow": {
     "slide_type": "slide"
    }
   },
   "outputs": [
    {
     "data": {
      "text/plain": [
       "<matplotlib.text.Text at 0x1112da048>"
      ]
     },
     "execution_count": 21,
     "metadata": {},
     "output_type": "execute_result"
    },
    {
     "data": {
      "image/png": "[encoded data removed]",
      "text/plain": [
       "<matplotlib.figure.Figure at 0x10b0c7f60>"
      ]
     },
     "metadata": {},
     "output_type": "display_data"
    }
   ],
   "source": [
    "import numpy as np\n",
    "%matplotlib inline\n",
    "import matplotlib.pyplot as plt\n",
    "# plt.xkcd()\n",
    "n = 256\n",
    "a = [[1.0/(i + j + 0.5) for i in range(n)] for j in range(n)]\n",
    "a = np.array(a)\n",
    "u, s, v = np.linalg.svd(a)\n",
    "plt.semilogy(s/s[0])\n",
    "plt.title('Singular values decay for a Hilbert matrix')"
   ]
  },
  {
   "cell_type": "markdown",
   "metadata": {
    "slideshow": {
     "slide_type": "slide"
    }
   },
   "source": [
    "## A more realistic example\n",
    "We can try to test on a more realistic matrix, since solving linear systems with Hilbert matrix has little practical sense. Instead, we solve a linear system with a matrix\n",
    "$$A_{ij} = \\frac{1}{i - j + \\frac{1}{2}},$$\n",
    "which corresponds to an integral equation\n",
    "$$\n",
    "    \\int \\frac{q(y)dy}{x - y } = f(x).\n",
    "$$\n",
    "In real life, the equation  \n",
    "\n",
    "$$\n",
    "    \\int_{\\Omega} \\frac{q(y)dy}{\\Vert x - y\\Vert } = f(x),\n",
    "$$\n",
    "\n",
    "is solved, where $\\Omega$ is a surface in 3D. This is used, for example, in modelling integral circuits.\n",
    "Let us see what happens with the singular values."
   ]
  },
  {
   "cell_type": "code",
   "execution_count": 22,
   "metadata": {
    "slideshow": {
     "slide_type": "slide"
    }
   },
   "outputs": [
    {
     "data": {
      "text/plain": [
       "3.9968028886505635e-15"
      ]
     },
     "execution_count": 22,
     "metadata": {},
     "output_type": "execute_result"
    },
    {
     "data": {
      "image/png": "[encoded data removed]",
      "text/plain": [
       "<matplotlib.figure.Figure at 0x11553d128>"
      ]
     },
     "metadata": {},
     "output_type": "display_data"
    }
   ],
   "source": [
    "import numpy as np\n",
    "import numpy as np\n",
    "%matplotlib inline\n",
    "import matplotlib.pyplot as plt\n",
    "# plt.xkcd()\n",
    "n = 256\n",
    "a = [[1.0/(i - j + 0.5) for i in range(n)] for j in range(n)]\n",
    "a = np.array(a)\n",
    "u, s, v = np.linalg.svd(a)\n",
    "plt.plot(s)\n",
    "plt.title('Singular values decay for a Cauchy-Hilbert matrix')\n",
    "plt.tight_layout()\n",
    "s[5] - np.pi"
   ]
  },
  {
   "cell_type": "markdown",
   "metadata": {
    "slideshow": {
     "slide_type": "slide"
    }
   },
   "source": [
    "What to do?  \n",
    "\n",
    "The idea is to break the matrix intro blocks  \n",
    "\n",
    "$$\n",
    "    A = \\begin{bmatrix}\n",
    "    A_{11} & A_{12} \\\\\n",
    "    A_{21} & A_{22}\n",
    "    \\end{bmatrix}\n",
    "$$\n",
    "\n",
    "and the blocks $A_{12}$ and $A_{21}$ will be of low-rank!  Let us try that.."
   ]
  },
  {
   "cell_type": "markdown",
   "metadata": {
    "slideshow": {
     "slide_type": "slide"
    }
   },
   "source": [
    "## Block-low rank matrices\n",
    "\n",
    "Surprisingly many matrices in PDEs can be well approximated by block-low-rank (other names: **hierarchical, mosaic-skeleton**) matrices.\n",
    "\n",
    "They have linear storage, but algorithms are not very **simple**"
   ]
  },
  {
   "cell_type": "markdown",
   "metadata": {
    "slideshow": {
     "slide_type": "slide"
    }
   },
   "source": [
    "## Take home message\n",
    "- Matrix rank definition\n",
    "- Skeleton approximation and dyadic representation of a rank-$r$ matrix\n",
    "- Singular value decomposition and Eckart-Young theorem\n",
    "- Three applications of SVD"
   ]
  },
  {
   "cell_type": "markdown",
   "metadata": {
    "slideshow": {
     "slide_type": "slide"
    }
   },
   "source": [
    "## Next lecture\n",
    "- Linear systems\n",
    "- Inverse matrix\n",
    "- Condition number\n",
    "- Linear least squares\n",
    "- Pseudoinverse"
   ]
  },
  {
   "cell_type": "markdown",
   "metadata": {
    "slideshow": {
     "slide_type": "slide"
    }
   },
   "source": [
    "## Next lecture\n",
    "- Think of course projects"
   ]
  },
  {
   "cell_type": "markdown",
   "metadata": {
    "slideshow": {
     "slide_type": "slide"
    }
   },
   "source": [
    "##### Questions?"
   ]
  },
  {
   "cell_type": "code",
   "execution_count": null,
   "metadata": {
    "collapsed": true,
    "slideshow": {
     "slide_type": "skip"
    }
   },
   "outputs": [],
   "source": [
    "from IPython.core.display import HTML\n",
    "def css_styling():\n",
    "    styles = open(\"./styles/custom.css\", \"r\").read()\n",
    "    return HTML(styles)\n",
    "css_styling()"
   ]
  }
 ],
 "metadata": {
  "anaconda-cloud": {},
  "celltoolbar": "Slideshow",
  "kernelspec": {
   "display_name": "Python 3",
   "language": "python",
   "name": "python3"
  },
  "language_info": {
   "codemirror_mode": {
    "name": "ipython",
    "version": 3
   },
   "file_extension": ".py",
   "mimetype": "text/x-python",
   "name": "python",
   "nbconvert_exporter": "python",
   "pygments_lexer": "ipython3",
   "version": "3.6.2"
  },
  "latex_envs": {
   "LaTeX_envs_menu_present": true,
   "bibliofile": "biblio.bib",
   "cite_by": "apalike",
   "current_citInitial": 1,
   "eqLabelWithNumbers": true,
   "eqNumInitial": 1,
   "labels_anchors": false,
   "latex_user_defs": false,
   "report_style_numbering": false,
   "user_envs_cfg": false
  },
  "nav_menu": {},
  "toc": {
   "navigate_menu": true,
   "number_sections": false,
   "sideBar": true,
   "threshold": 6,
   "toc_cell": false,
   "toc_section_display": "block",
   "toc_window_display": false
  }
 },
 "nbformat": 4,
 "nbformat_minor": 1
}
