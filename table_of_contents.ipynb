{
 "cells": [
  {
   "cell_type": "markdown",
   "metadata": {},
   "source": [
    "# Table of contents"
   ]
  },
  {
   "cell_type": "markdown",
   "metadata": {},
   "source": [
    "**Course instructor: **\n",
    "Ivan Oseledets\n",
    "\n",
    "** TAs:**\n",
    "Maxim Rakhuba,\n",
    "Marina Munkhoeva,\n",
    "Alexandr Katrutsa,\n",
    "Artem Nikitin,\n",
    "Valentin Khrulkov,\n",
    "Daniil Merkulov,\n",
    "Evgeny Ponomarev"
   ]
  },
  {
   "cell_type": "markdown",
   "metadata": {},
   "source": [
    "| Week | Lecture notebooks | Supplementary materials | Homework | Tests |\n",
    "|:------:|:----------|:----------|:----------|-------|\n",
    "|1| [General info](lectures/lecture-0.ipynb)  <br> [Lecture 1 (Floating-point arithmetic, vector norms)](lectures/lecture-1.ipynb) <br> [Lecture 2 (Matrix norms, unitary matrices)](lectures/lecture-2.ipynb) <br> [Lecture 3 (Matvecs and matmuls, memory hierarchy, Strassen algorithm)](lectures/lecture-3.ipynb) | [Lecture 2 notes](lectures/notes/Nla2017-lec2.pdf) <br> [Notes on derivatives](lectures/notes/seminar_cookbook.pdf) <br> [Python tutorial](./lectures/Python_Intro.ipynb) <br> [Matrix Cookbook](./matrixcookbook.pdf) | [Requirements](hw.pdf) <br> [Problem set 1](psets/pset1.ipynb) <br> Deadline: 12/11/17 (11:59 pm) | | \n",
    "|2| [Lecture 4 (Skeleton decomposition, SVD and its applications)](lectures/lecture-4.ipynb) <br> [Lecture 5 (Linear systems)](./lectures/lecture-5.ipynb) | [SVD RecSys demo](./lectures/SVD_RecSys.ipynb) | | |\n",
    "|3| [Lecture 6 (Eigenvalues and eigenvectors)](lectures/lecture-6.ipynb) <br> [Lecture 7 (More about the QR decomposition, QR algorithm)](./lectures/lecture-7.ipynb) <br> [Lecture 8 (More about QR algorithm, eigendecomposition algorithms, SVD algorithms)](./lectures/lecture-8.ipynb) | [Problem Set 1 submissions stats](./lectures/HW1_submissions.ipynb) |[Problem set 2](psets/pset2.ipynb) <br> Deadline: 26/11/17 (11:59 pm) | |\n",
    "|4| [Lecture 9 (Sparse linear algebra. Part 1)](./lectures/lecture-9.ipynb) <br> [Lecture 10 (Sparse linear algebra. Part 2. Basic iterative methods)](./lectures/lecture-10.ipynb) <br> [Lecture 11 (Krylov subspace iterative methods)](./lectures/lecture-11.ipynb)||||\n",
    "|5| [Lecture 12 (More Krylov methods and preconditioning)](./lectures/lecture-12.ipynb) <br> [Lecture 13 (Iterative methods for eigenvalues)](./lectures/lecture-13.ipynb) <br> Midterm test | | [Problem set 3](./psets/pset3.ipynb) <br> Deadline: 10/12/17 (11:59 pm) | [Rules and list of problems for the midterm test](problems-midterm-test.pdf) <br> (to be held on 01/12/17)\n",
    "|6| [Lecture 14 (Structured matrices: circulants, Toeplitz matrices, Fourier transform)](./lectures/lecture-14.ipynb) <br> [Lecture 15 (Matrix functions and matrix equations)](./lectures/lecture-15.ipynb) <br> [Lecture 16 (Tensors and tensor decompositions)](./lectures/lecture-16.ipynb)||||\n",
    "|7| | | | [List for exam questions](./exam/exam_questions.pdf)| "
   ]
  }
 ],
 "metadata": {
  "anaconda-cloud": {},
  "kernelspec": {
   "display_name": "Python 3",
   "language": "python",
   "name": "python3"
  },
  "language_info": {
   "codemirror_mode": {
    "name": "ipython",
    "version": 3
   },
   "file_extension": ".py",
   "mimetype": "text/x-python",
   "name": "python",
   "nbconvert_exporter": "python",
   "pygments_lexer": "ipython3",
   "version": "3.6.2"
  },
  "nav_menu": {},
  "toc": {
   "navigate_menu": true,
   "number_sections": true,
   "sideBar": true,
   "threshold": 6,
   "toc_cell": false,
   "toc_section_display": "block",
   "toc_window_display": false
  }
 },
 "nbformat": 4,
 "nbformat_minor": 1
}
